{
 "cells": [
  {
   "cell_type": "code",
   "execution_count": null,
   "id": "af0cd6e9",
   "metadata": {},
   "outputs": [
    {
     "name": "stdout",
     "output_type": "stream",
     "text": [
      "Enter the Product Id: 3\n",
      "Enter the quantity of product: 4\n",
      "Entered Quantity is not available\n",
      "Do you still want to take(y/n)y\n",
      "-----------------------------------\n",
      "Product Name     : Cake\n",
      "Price            : 300\n",
      "Quantity         : 4\n",
      "-----------------------------------\n",
      "Total Amount     : 1200\n",
      "-----------------------------------\n"
     ]
    }
   ],
   "source": [
    "fd=open(\"inventory.txt\",\"r\")\n",
    "products=fd.read().split(\"\\n\")\n",
    "fd.close()\n",
    "\n",
    "prod_id=(input(\"Enter the Product Id: \"))\n",
    "quant=int(input(\"Enter the quantity of product: \"))\n",
    "updated_Products=[]\n",
    "for product in products:\n",
    "    \n",
    "    item=product.split(\",\")\n",
    "   \n",
    "    if(item[0]==prod_id):\n",
    "        if(quant<=int(item[3])):\n",
    "            print(\"-----------------------------------\")\n",
    "            print(\"Product Name     :\",item[1])\n",
    "            print(\"Price            :\",item[2])\n",
    "            print(\"Quantity         :\",quant)\n",
    "            print(\"-----------------------------------\")\n",
    "            print(\"Total Amount     :\",quant*int(item[2]))\n",
    "            print(\"-----------------------------------\")\n",
    "            item[3]=str(int(item[3])-quant)\n",
    "        \n",
    "        else:\n",
    "            print(\"Entered Quantity is not available\")\n",
    "            ch=input(\"Do you still want to take(y/n)\")\n",
    "            if(ch==\"Y\" or ch==\"y\"):\n",
    "                print(\"-----------------------------------\")\n",
    "                print(\"Product Name     :\",item[1])\n",
    "                print(\"Price            :\",item[2])\n",
    "                print(\"Quantity         :\",int(item[3]))\n",
    "                print(\"-----------------------------------\")\n",
    "                print(\"Total Amount     :\",int(item[3])*int(item[2]))\n",
    "                print(\"-----------------------------------\")\n",
    "                item[3]=\"0\"\n",
    "        \n",
    "        \n",
    "    updated_Products.append(item)\n",
    "\n",
    "lst=[]\n",
    "for product in updated_Products:\n",
    "    item=product[0] +\",\"+ product[1]+\",\"+product[2]+\",\"+product[3]+\"\\n\"\n",
    "    lst.append(item)\n",
    "\n",
    "lst[-1]=lst[-1][:-1]\n",
    "fd=open(\"inventory.txt\",\"w\")\n",
    "for product in lst:\n",
    "    fd.write(product)\n",
    "fd.close()\n",
    "\n"
   ]
  },
  {
   "cell_type": "code",
   "execution_count": null,
   "id": "978d649b",
   "metadata": {},
   "outputs": [],
   "source": []
  }
 ],
 "metadata": {
  "kernelspec": {
   "display_name": "Python 3 (ipykernel)",
   "language": "python",
   "name": "python3"
  },
  "language_info": {
   "codemirror_mode": {
    "name": "ipython",
    "version": 3
   },
   "file_extension": ".py",
   "mimetype": "text/x-python",
   "name": "python",
   "nbconvert_exporter": "python",
   "pygments_lexer": "ipython3",
   "version": "3.11.4"
  }
 },
 "nbformat": 4,
 "nbformat_minor": 5
}
